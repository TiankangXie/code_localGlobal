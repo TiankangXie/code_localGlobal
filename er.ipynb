{
 "cells": [
  {
   "cell_type": "code",
   "execution_count": 4,
   "metadata": {},
   "outputs": [
    {
     "name": "stdout",
     "output_type": "stream",
     "text": [
      "['a', 'n', 'c']\n"
     ]
    }
   ],
   "source": [
    "import collections\n",
    "aa = ['a', 'n', 'a', 'n', 'c', 'd']\n",
    "def partition(left, right, pivot_index) -> int:\n",
    "    pivot_frequency = count[unique[pivot_index]]\n",
    "    # 1. move pivot to the end\n",
    "    unique[pivot_index], unique[right] = unique[right], unique[pivot_index]  \n",
    "    \n",
    "    # 2. move all less frequent elements to the left\n",
    "    store_index = left\n",
    "    for i in range(left, right):\n",
    "        if count[unique[i]] < pivot_frequency:\n",
    "            unique[store_index], unique[i] = unique[i], unique[store_index]\n",
    "            store_index += 1\n",
    "\n",
    "    # 3. move pivot to its final place\n",
    "    unique[right], unique[store_index] = unique[store_index], unique[right]  \n",
    "    \n",
    "    return store_index\n"
   ]
  },
  {
   "cell_type": "code",
   "execution_count": 11,
   "metadata": {},
   "outputs": [],
   "source": [
    "arr = ['a','a','a','n','n','n','n','c','c']\n",
    "max_count = 1\n",
    "res = frameworks[0]\n",
    "curr_count = 1\n",
    "\n",
    "for i in range(1, len(frameworks)):\n",
    "    if (frameworks[i] == frameworks[i - 1]):\n",
    "        curr_count += 1\n",
    "    else:\n",
    "        curr_count = 1\n",
    "\n",
    "        # If last element is most frequent\n",
    "    if (curr_count > max_count):\n",
    "        max_count = curr_count\n",
    "        res = frameworks[i - 1]\n",
    "\n"
   ]
  },
  {
   "cell_type": "code",
   "execution_count": 12,
   "metadata": {},
   "outputs": [
    {
     "data": {
      "text/plain": [
       "'n'"
      ]
     },
     "execution_count": 12,
     "metadata": {},
     "output_type": "execute_result"
    }
   ],
   "source": [
    "res"
   ]
  },
  {
   "cell_type": "code",
   "execution_count": null,
   "metadata": {},
   "outputs": [],
   "source": [
    "freq_occ = sorted(frameworks, key=lambda)"
   ]
  },
  {
   "cell_type": "code",
   "execution_count": null,
   "metadata": {},
   "outputs": [],
   "source": [
    "print([k for k in aa1])"
   ]
  },
  {
   "cell_type": "code",
   "execution_count": null,
   "metadata": {},
   "outputs": [],
   "source": [
    "color_mapping = torch.zeros((map.shape))\n"
   ]
  },
  {
   "cell_type": "code",
   "execution_count": null,
   "metadata": {},
   "outputs": [],
   "source": [
    "start_h = 0\n",
    "end_h = 10\n",
    "start_w = 1\n",
    "end_w = 10\n",
    "for h in range(int(start_h), int(end_h)+1):\n",
    "    for w in range(int(start_w), int(end_w)+1):\n",
    "        map[:,h,w]=max(1 - (abs(h - AU_center_y) + abs(w - AU_center_x)) *\n",
    "                            fill_coeff / (map_size*spatial_ratio), map[:,h,w])"
   ]
  }
 ],
 "metadata": {
  "interpreter": {
   "hash": "916dbcbb3f70747c44a77c7bcd40155683ae19c65e1c03b4aa3499c5328201f1"
  },
  "kernelspec": {
   "display_name": "Python 3.8.10 64-bit",
   "language": "python",
   "name": "python3"
  },
  "language_info": {
   "codemirror_mode": {
    "name": "ipython",
    "version": 3
   },
   "file_extension": ".py",
   "mimetype": "text/x-python",
   "name": "python",
   "nbconvert_exporter": "python",
   "pygments_lexer": "ipython3",
   "version": "3.8.10"
  },
  "orig_nbformat": 4
 },
 "nbformat": 4,
 "nbformat_minor": 2
}
